{
 "cells": [
  {
   "cell_type": "code",
   "execution_count": 4,
   "metadata": {},
   "outputs": [],
   "source": [
    "from langchain_community.document_loaders import PyPDFLoader\n",
    "from langchain import hub\n",
    "\n"
   ]
  },
  {
   "cell_type": "code",
   "execution_count": 5,
   "metadata": {},
   "outputs": [
    {
     "data": {
      "text/plain": [
       "Document(metadata={'source': './data/Syretestmal.pdf', 'page': 0}, page_content=' \\nSyretestmal  \\n \\nProdukt  og produktkonsept  \\na. Problem  og nåværende  løsning  \\nHvilken  problem  løser  man/Hvilket  behov  skaper  man?  Hvor  kritisk  er problemet/behovet? \\nHvordan/hvor tilfredsstillende tjener dagens løsninger dette?  \\nb. Beskrivelse  av produktet/tjenesten  \\nGi en forståelig og konsis beskrivelse av produktet/tjenesten og eventuell underliggende \\nteknologi. Beskrivelse og analyse av eventuell forskning og utvikling bak det tenkte \\nproduktet/  tjenesten.  Bruk  gjerne  brukerscenarioer  for å illustrere  kundenytte.  Illustrasjoner, \\nbilder og/ eller tegninger er sterkt anbefalt og god praksis  \\nc. IPR \\nHvordan kan man beskytte forretningsidéen? Hvor kritisk er formell IPR beskyttelse som for \\neksempel  patentering?  Hvor  vanskelig  er det å kopiere ideen/produktet?  Hva er gjort  og hva \\nskal/kan gjøres?  \\nd. Skalerbarhet  og vekstpotensial  \\nHva er skaleringspotensialet  i forretningen?  Still dere  selv spørsmålet:  Hvilke  utfordringer \\noppstår hvis bedriften skal gå fra å selge 10 produkter/tjenester til 1.000.000 \\nprodukter/tjenester? Kan man ekspandere med samme konsept til flere geografiske \\nmarkeder? Hvilke andre bruksområder kan man overføre produktet/tjenesten til?  \\ne. Produktstatus  og planlagt  utviklingsløp  \\nHva er status på teknologien/produktet/tjenesten i dag? Hva sier idéhavere, \\nfagfolk/eksperter,  og hva er teamets  vurdering/analyse  om utviklingsløpet  til bedriften?  \\nPresenter  milepæler  som  estimerer  kritiske  utviklingsaktiviteter  og hvor  lang tid vil det ta å \\nkomme frem til en MVP, prototype, proof of concept, market entry etc?  ')"
      ]
     },
     "execution_count": 5,
     "metadata": {},
     "output_type": "execute_result"
    }
   ],
   "source": [
    "loader = PyPDFLoader(\"./data/Syretestmal.pdf\")\n",
    "docs = loader.load()\n",
    "docs[0]"
   ]
  },
  {
   "cell_type": "code",
   "execution_count": 6,
   "metadata": {},
   "outputs": [
    {
     "name": "stderr",
     "output_type": "stream",
     "text": [
      "c:\\Users\\prebe\\OneDrive\\Projects\\IdeaGen\\venv\\Lib\\site-packages\\langsmith\\client.py:333: LangSmithMissingAPIKeyWarning: API key must be provided when using hosted LangSmith API\n",
      "  warnings.warn(\n",
      "c:\\Users\\prebe\\OneDrive\\Projects\\IdeaGen\\venv\\Lib\\site-packages\\langsmith\\client.py:5431: LangChainBetaWarning: The function `loads` is in beta. It is actively being worked on, so the API may change.\n",
      "  prompt = loads(json.dumps(prompt_object.manifest))\n"
     ]
    }
   ],
   "source": [
    "prompt = hub.pull(\"rlm/rag-prompt\")"
   ]
  },
  {
   "cell_type": "code",
   "execution_count": null,
   "metadata": {},
   "outputs": [],
   "source": []
  }
 ],
 "metadata": {
  "kernelspec": {
   "display_name": "venv",
   "language": "python",
   "name": "python3"
  },
  "language_info": {
   "codemirror_mode": {
    "name": "ipython",
    "version": 3
   },
   "file_extension": ".py",
   "mimetype": "text/x-python",
   "name": "python",
   "nbconvert_exporter": "python",
   "pygments_lexer": "ipython3",
   "version": "3.11.5"
  }
 },
 "nbformat": 4,
 "nbformat_minor": 2
}
